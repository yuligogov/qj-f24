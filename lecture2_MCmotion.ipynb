{
 "cells": [
  {
   "cell_type": "markdown",
   "metadata": {},
   "source": [
    "Notebook modified from previous VP of Quant, Ryan Nie"
   ]
  },
  {
   "cell_type": "code",
   "execution_count": 2,
   "metadata": {},
   "outputs": [],
   "source": [
    "import numpy as np\n",
    "from matplotlib import pyplot as plt"
   ]
  },
  {
   "cell_type": "markdown",
   "metadata": {},
   "source": [
    "# Random Walk"
   ]
  },
  {
   "cell_type": "markdown",
   "metadata": {},
   "source": [
    "A random walk is an example of a **stochastic process**, an equation that depends on random variables:\n",
    "\n",
    "$$X_t = X_{t-1} + W_t,$$\n",
    "\n",
    "Your random variable at time $t$ is dependent on your previous position at $t-1$ and a random term $W_t$. \n",
    "\n",
    "Where $$W_t = \\mu + \\sigma Z_t, \\quad Z_t\\sim\\mathcal{N}(0, 1).$$ and $\\mu$ is the expected return (drift term) and $\\sigma$ is the standard deviation. "
   ]
  },
  {
   "cell_type": "markdown",
   "metadata": {},
   "source": [
    "Stock prices move very much like **Geometric Brownian Motion**: \n",
    "\n",
    "$$\\Delta S_k =  \\mu S_k\\Delta t + \\sigma S_k \\Delta Z_k = S_k \\left(\\mu \\Delta t + \\sigma \\Delta Z_k\\right).$$\n",
    "\n",
    "$$S_{k+1} =  S_k + S_k \\left(\\mu \\Delta t + \\sigma \\Delta Z_k\\right).$$\n",
    "\n",
    "Try solving this with calculus.\n",
    "\n",
    "Now let's simulate a random walk for $T = 252$ days with an initial price of $\\$10$, $\\mu$ of $25$ percent per year, and $\\sigma = 0.2$ (20 percent volatility)."
   ]
  },
  {
   "cell_type": "code",
   "execution_count": null,
   "metadata": {},
   "outputs": [],
   "source": [
    "T = 252\n",
    "S0 = 10\n",
    "mu = .25/T\n",
    "sigma = .02\n",
    "\n",
    "S_pos = [S0]\n",
    "\n",
    "# Volatility is assumed constant. Is this good or bad?\n",
    "# When is this a good model? When is it bad?\n",
    "Z = np.random.normal(0,1, size = T) #random.normal takes mean and standard deviation, NOT variance!\n",
    "\n",
    "for t in range(0, T):\n",
    "    S_pos.append(S_pos[t] + S_pos[t]*(mu + sigma*Z[t]))\n",
    "    \n",
    "plt.plot(S_pos)\n",
    "plt.xlabel('Days Ahead') # Steps\n",
    "plt.ylabel('Price')"
   ]
  },
  {
   "cell_type": "markdown",
   "metadata": {},
   "source": [
    "Play around with $\\mu$ and $\\sigma$ and see what happens."
   ]
  },
  {
   "cell_type": "markdown",
   "metadata": {},
   "source": [
    "## 2D Random Walk Example"
   ]
  },
  {
   "cell_type": "code",
   "execution_count": null,
   "metadata": {},
   "outputs": [],
   "source": [
    "import random\n",
    "\n",
    "steps = 20000     \n",
    "\n",
    "x = np.zeros(steps)\n",
    "y = np.zeros(steps)\n",
    "for i in range(1, steps):\n",
    "    (dx, dy) = random.choice([(1,0),(-1,0),(0,1),(0,-1)])\n",
    "    x[i] = x[i-1] + dx \n",
    "    y[i] = y[i-1] + dy\n",
    "        \n",
    "plt.figure(figsize = (10,10))\n",
    "plt.grid()\n",
    "plt.plot(x,y)\n",
    "plt.xlabel(\"x\")\n",
    "plt.ylabel(\"y\")\n",
    "plt.title(\"2D Random Walk\")\n",
    "\n",
    "plt.plot(0,0, 'g*', markersize=10, label='Start')\n",
    "plt.plot(x[-1],y[-1], 'r*', markersize=10, label='End')\n",
    "plt.legend()"
   ]
  },
  {
   "cell_type": "markdown",
   "metadata": {},
   "source": [
    "# Try these problems out:"
   ]
  },
  {
   "cell_type": "markdown",
   "metadata": {},
   "source": [
    "1a. Using Monte Carlo Simulations, simulate 1,000 1D random walks with 200 steps each. Assume that at each iterations there is an equal probability of going left or right.\n",
    "\n",
    "1b. Plot a histogram to check the distribution of the ending points. One way to do it is to use np.random.choice, and to get the last element of a list, do `list_1[-1]`."
   ]
  },
  {
   "cell_type": "code",
   "execution_count": null,
   "metadata": {},
   "outputs": [],
   "source": []
  },
  {
   "cell_type": "markdown",
   "metadata": {},
   "source": [
    "2. Try simulating 2D random walks. What is an approximation to P(return to origin)? Use Monte Carlo methods."
   ]
  },
  {
   "cell_type": "code",
   "execution_count": null,
   "metadata": {},
   "outputs": [],
   "source": []
  },
  {
   "cell_type": "markdown",
   "metadata": {},
   "source": [
    "### Now back to finance, doing something similar."
   ]
  },
  {
   "cell_type": "markdown",
   "metadata": {},
   "source": [
    "In finance, the log of the stock price $\\log(S_t)$ is a \"random walk\":\n",
    "\n",
    "$$\\log(S_t) = \\log(S_{t-1}) + W_t$$ \n",
    "\n",
    "Ignore the logs for now, we will focus on geometric brownian motion: \n",
    "$\\Delta S_k =  \\mu S_k\\Delta t + \\sigma S_k \\Delta Z_k = S_k \\left(\\mu \\Delta t + \\sigma \\Delta Z_k\\right).$\n"
   ]
  },
  {
   "cell_type": "markdown",
   "metadata": {},
   "source": [
    "3. Create 5,000 random walkers with the same initial conditions. You get to pick the initial parameters (starting price, volatility, etc.). Plot a histogram to check the distribution of their ending points, you can normalize if you want."
   ]
  },
  {
   "cell_type": "code",
   "execution_count": null,
   "metadata": {},
   "outputs": [],
   "source": []
  },
  {
   "cell_type": "markdown",
   "metadata": {},
   "source": [
    "4. Try again with log prices."
   ]
  },
  {
   "cell_type": "code",
   "execution_count": null,
   "metadata": {},
   "outputs": [],
   "source": []
  },
  {
   "cell_type": "markdown",
   "metadata": {},
   "source": [
    "# Random Walk on a stock"
   ]
  },
  {
   "cell_type": "code",
   "execution_count": null,
   "metadata": {},
   "outputs": [],
   "source": [
    "import yfinance as yf\n",
    "import pandas as pd\n",
    "\n",
    "ticker = 'AAPL'\n",
    "data = yf.download(ticker, start='2019-10-22', end='2024-10-22')\n",
    "data = data[['Close']]\n",
    "data['returns'] = data['Close'].pct_change()\n",
    "data = data.dropna()\n",
    "\n",
    "plt.figure(figsize=(10,5))\n",
    "plt.plot(data['Close'])\n",
    "plt.title('Stock Price')\n",
    "plt.xlabel('Date')\n",
    "plt.ylabel('Price')\n",
    "plt.show()\n"
   ]
  },
  {
   "cell_type": "code",
   "execution_count": null,
   "metadata": {},
   "outputs": [],
   "source": [
    "# Calculate the mean and standard deviation of the returns\n",
    "mean = np.mean(data['returns'])\n",
    "std = np.std(data['returns'])\n",
    "\n",
    "# Generate random returns\n",
    "T = 252*2\n",
    "returns = np.random.normal(mean, std, T)\n",
    "\n",
    "# calculate new dates and prices\n",
    "dates = pd.date_range(start='2024-10-22', periods=T)\n",
    "prices = [data['Close'].iloc[-1]]\n",
    "\n",
    "for i in range(T):\n",
    "    prices.append(prices[i] + prices[i]*returns[i])\n",
    "\n",
    "# plot the predicted prices\n",
    "plt.figure(figsize=(10,5))\n",
    "plt.plot(dates, prices[1:])\n",
    "plt.title('Simulated Stock Price')\n",
    "plt.xlabel('Date')\n",
    "plt.ylabel('Price')\n",
    "plt.show()"
   ]
  }
 ],
 "metadata": {
  "kernelspec": {
   "display_name": "Python 3",
   "language": "python",
   "name": "python3"
  },
  "language_info": {
   "codemirror_mode": {
    "name": "ipython",
    "version": 3
   },
   "file_extension": ".py",
   "mimetype": "text/x-python",
   "name": "python",
   "nbconvert_exporter": "python",
   "pygments_lexer": "ipython3",
   "version": "3.9.13"
  }
 },
 "nbformat": 4,
 "nbformat_minor": 4
}
